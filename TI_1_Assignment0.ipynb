{
 "cells": [
  {
   "cell_type": "markdown",
   "metadata": {},
   "source": [
    "# Assignment 0\n",
    "\n",
    "**Name:** Wendy Stefany Escamilla Valadez\n",
    "\n",
    "**e-mail:** wendy.escamilla@cucei.udg.mx"
   ]
  },
  {
   "cell_type": "markdown",
   "metadata": {},
   "source": [
    "# MODULES"
   ]
  },
  {
   "cell_type": "code",
   "execution_count": 253,
   "metadata": {},
   "outputs": [],
   "source": [
    "# Load modules\n",
    "import numpy as np\n",
    "import matplotlib.pyplot as plt\n",
    "from termcolor import colored"
   ]
  },
  {
   "cell_type": "markdown",
   "metadata": {},
   "source": [
    "# Theory on the Gradient Descent algorithm"
   ]
  },
  {
   "cell_type": "code",
   "execution_count": 254,
   "metadata": {},
   "outputs": [],
   "source": [
    "# Function to be optimized\n",
    "def f(x, y):\n",
    "    return x**2 + y**2\n",
    "\n",
    "# Gradient (derivative of the function)\n",
    "def grad_f(x, y):\n",
    "    return np.array([2*x, 2*y])"
   ]
  },
  {
   "cell_type": "code",
   "execution_count": 255,
   "metadata": {},
   "outputs": [],
   "source": [
    "# Gradient descent algorithm\n",
    "\n",
    "def gradient_descent(grad, start, learn_rate, n_iter, tolerance=1e-6):\n",
    "    x = start\n",
    "    path = [x]\n",
    "    for _ in range(n_iter):\n",
    "\n",
    "        # Calculate the new point\n",
    "        gradient = grad(*x) \n",
    "        x_new = x - learn_rate * gradient\n",
    "        path.append(x_new)\n",
    "\n",
    "        # Maximum tolerable distance between each point to reach convergence (Maximo tolerable entre cada punto para llegar a converger) (minimo de distancia entre puntos para parar de iterar)\n",
    "        if np.linalg.norm(x_new - x) < tolerance:\n",
    "            break\n",
    "        \n",
    "        x = x_new\n",
    "    return x, path\n"
   ]
  },
  {
   "cell_type": "code",
   "execution_count": 256,
   "metadata": {},
   "outputs": [
    {
     "name": "stdout",
     "output_type": "stream",
     "text": [
      "Minimum point: \u001b[32m[3.13855087e-06 3.13855087e-06]\u001b[0m\n"
     ]
    }
   ],
   "source": [
    "\n",
    "# Run gradient descent algorithm\n",
    "\n",
    "# Initial values\n",
    "start = np.array([5.0, 5.0]) # Starting point\n",
    "learn_rate = .1 # max 1 (alfa)\n",
    "n_iter = 100\n",
    "\n",
    "min_point, path = gradient_descent(grad_f, start, learn_rate, n_iter)\n",
    "path = np.array(path)\n",
    "\n",
    "print(f\"Minimum point: {colored(min_point, 'green')}\")\n",
    "\n"
   ]
  }
 ],
 "metadata": {
  "kernelspec": {
   "display_name": "Python 3",
   "language": "python",
   "name": "python3"
  },
  "language_info": {
   "codemirror_mode": {
    "name": "ipython",
    "version": 3
   },
   "file_extension": ".py",
   "mimetype": "text/x-python",
   "name": "python",
   "nbconvert_exporter": "python",
   "pygments_lexer": "ipython3",
   "version": "3.11.8"
  }
 },
 "nbformat": 4,
 "nbformat_minor": 2
}
